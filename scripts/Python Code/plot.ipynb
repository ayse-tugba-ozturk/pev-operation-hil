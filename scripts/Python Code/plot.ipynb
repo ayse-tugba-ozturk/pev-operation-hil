{
 "cells": [
  {
   "cell_type": "code",
   "execution_count": 64,
   "metadata": {},
   "outputs": [],
   "source": [
    "import numpy as np\n",
    "import pandas as pd \n",
    "import matplotlib.pyplot as plt\n",
    "\n",
    "import opt_tugba\n",
    "import sys\n",
    "import os"
   ]
  },
  {
   "cell_type": "code",
   "execution_count": 65,
   "metadata": {},
   "outputs": [
    {
     "data": {
      "text/plain": [
       "array([1., 1., 1., 1., 1., 1., 1., 1., 1., 1., 1., 1., 1., 1., 1., 1., 1.,\n",
       "       1., 1., 1., 1., 1., 1., 1., 1., 1., 1., 1., 1., 1., 1., 1., 1., 1.,\n",
       "       1., 1., 1., 1., 1., 1., 5., 5., 5., 5., 5., 5., 5., 5., 5., 5., 5.,\n",
       "       5., 5., 5., 5., 5., 5., 5., 5., 5., 1., 1., 1., 1., 1., 1., 1., 1.,\n",
       "       1., 1., 1., 1., 1., 1., 1., 1., 1., 1., 1., 1., 1., 1., 1., 1., 1.,\n",
       "       1., 1., 1., 1., 1., 1., 1., 1., 1., 1., 1.])"
      ]
     },
     "execution_count": 65,
     "metadata": {},
     "output_type": "execute_result"
    }
   ],
   "source": [
    "new_event = True \n",
    "time = 4.25\n",
    "pow_max = 10\n",
    "pow_min = 0\n",
    "overstay_duration= 1\n",
    "duration= 12\n",
    "batt_cap= 80\n",
    "\n",
    "SOC_init = 0.3\n",
    "SOC_need= 0.8\n",
    "event = event = {\"time\" : time, \"pow_min\" : pow_min, \"pow_max\" : pow_max, \"overstay_duration\" : overstay_duration, \"duration\" : duration, \"batt_cap\" : batt_cap, \"SOC_need\" : SOC_need, \"SOC_init\" : SOC_init, 'eff':1.0, \"lam_x\" : 0}\n",
    "\n",
    "tariff = np.ones((96,)) \n",
    "tariff[40:60] = np.ones(shape = (20,)) * 5\n",
    "z = [50, 50, 10, 1]\n",
    "v = [0.45,0.45,0.1]\n",
    "tariff"
   ]
  },
  {
   "cell_type": "code",
   "execution_count": 66,
   "metadata": {},
   "outputs": [
    {
     "name": "stdout",
     "output_type": "stream",
     "text": [
      "48 17 [1. 1. 1. 1. 1. 1. 1. 1. 1. 1. 1. 1. 1. 1. 1. 1. 1. 1. 1. 1. 1. 1. 1. 5.\n",
      " 5. 5. 5. 5. 5. 5. 5. 5. 5. 5. 5. 5. 5. 5. 5. 5. 5. 5. 5. 1. 1. 1. 1. 1.]\n",
      "u: [3.71 3.71 3.71 3.71 3.71 3.71 3.71 3.71 3.71 3.71 3.71 3.71 3.71 3.71\n",
      " 3.71 3.71 3.71 3.71 3.71 3.71 3.71 3.71 3.71 3.51 3.51 3.51 3.51 3.51\n",
      " 3.51 3.51 3.51 3.51 3.51 3.51 3.51 3.51 3.51 3.51 3.51 3.51 3.51 3.51\n",
      " 3.51 3.71 3.71 3.71 3.71 3.71] SOC: [0.3  0.31 0.32 0.33 0.34 0.35 0.36 0.37 0.39 0.4  0.41 0.42 0.43 0.44\n",
      " 0.45 0.46 0.47 0.48 0.49 0.5  0.51 0.52 0.53 0.55 0.56 0.57 0.58 0.59\n",
      " 0.6  0.61 0.62 0.63 0.64 0.65 0.66 0.67 0.68 0.69 0.7  0.71 0.72 0.73\n",
      " 0.74 0.75 0.76 0.77 0.78 0.79 0.8 ]\n"
     ]
    },
    {
     "name": "stderr",
     "output_type": "stream",
     "text": [
      "/Users/aysetugbaozturk/miniconda3/lib/python3.8/site-packages/cvxpy/expressions/expression.py:550: UserWarning: \n",
      "This use of ``*`` has resulted in matrix multiplication.\n",
      "Using ``*`` for matrix multiplication has been deprecated since CVXPY 1.1.\n",
      "    Use ``*`` for matrix-scalar and vector-scalar multiplication.\n",
      "    Use ``@`` for matrix-matrix and matrix-vector multiplication.\n",
      "    Use ``multiply`` for elementwise multiplication.\n",
      "\n",
      "  warnings.warn(__STAR_MATMUL_WARNING__, UserWarning)\n",
      "/Users/aysetugbaozturk/miniconda3/lib/python3.8/site-packages/cvxpy/reductions/solvers/solving_chain.py:325: DeprecationWarning: Deprecated, use Model.addMConstr() instead\n",
      "  return self.solver.solve_via_data(data, warm_start, verbose,\n"
     ]
    }
   ],
   "source": [
    "par = opt_tugba.Parameters(TOU = tariff)\n",
    "prb = opt_tugba.Problem(par = par, event = event)\n",
    "opt = opt_tugba.Optimization(par, prb)\n",
    "res = opt.run_opt()\n"
   ]
  },
  {
   "cell_type": "code",
   "execution_count": 67,
   "metadata": {},
   "outputs": [
    {
     "name": "stderr",
     "output_type": "stream",
     "text": [
      "/Users/aysetugbaozturk/miniconda3/lib/python3.8/site-packages/ipykernel/ipkernel.py:287: DeprecationWarning: `should_run_async` will not call `transform_cell` automatically in the future. Please pass the result to `transformed_cell` argument and any exception that happen during thetransform in `preprocessing_exc_tuple` in IPython 7.17 and above.\n",
      "  and should_run_async(code)\n"
     ]
    }
   ],
   "source": [
    "days = 0 \n",
    "num_interval= len(par.TOU)\n",
    "interval_size = par.Ts\n",
    "\n",
    "timerange = pd.date_range(\"1/1/2021\", periods=num_interval, freq=\"{}H\".format(interval_size ))\n",
    "TOU_cost = pd.Series(par.TOU, index = timerange, name = \"TOU Cost ($)\")\n",
    "\n",
    "\n",
    "# Event parameters: arrival_time, soc_init, soc_need, departure\n",
    "opt_time_start  = pd.Timestamp(year=2021, month=1, day=1, hour = int(res[\"time_start\"] // 1), minute = int(60 * ( res['time_start'] % 1)))\n",
    "opt_time_end_flex  =pd.Timestamp(year=2021, month=1, day=1, hour = int(res[\"time_end_flex\"]  // 1),  minute = int(60 *(res['time_end_flex'] % 1)))\n",
    "opt_time_end_asap  = pd.Timestamp(year=2021, month=1, day=1, hour = int(res[\"time_end_asap\"] // 1), minute = int(60 *(res['time_end_asap'] % 1)))\n",
    "\n",
    "flex_ts = pd.date_range(start=opt_time_start , end=opt_time_end_flex, freq=\"{}H\".format(par.Ts))\n",
    "asap_ts = pd.date_range(start=opt_time_start , end=opt_time_end_asap, freq=\"{}H\".format(par.Ts))\n",
    "\n",
    "# Optimization outputs \n",
    "\n",
    "## Question: Why flex output length mismatches the timelength? \n",
    "# print(opt.opt_flex_powers.shape)\n",
    "opt_flex_powers = pd.Series(res['flex_powers'].reshape(len(res['flex_powers']),), index = flex_ts[:-1], name = \"Flew Power (kWh)\")\n",
    "opt_asap_powers = pd.Series(res['asap_powers'].reshape(len(res['asap_powers']),), index = asap_ts[:-1], name = \"ASAP Power (kWh)\")\n",
    "opt_flex_SOCs = pd.Series(res['flex_SOCs'].reshape(len(res['flex_SOCs']),), index = flex_ts, name = \"Flex SOC (%)\")\n",
    "# event = prb.event\n",
    "# print(event)\n",
    "\n",
    "\n",
    "\n",
    "\n",
    "        "
   ]
  },
  {
   "cell_type": "code",
   "execution_count": 68,
   "metadata": {},
   "outputs": [],
   "source": [
    "## PLOT FOR 2 days \n",
    "days =2 \n",
    "ts = pd.date_range(timerange[0], periods=num_interval * days, freq=\"{}H\".format(interval_size ))\n",
    "df_plot = pd.DataFrame(index = ts, \n",
    "                        data = {\"TOU Cost ($)\": list(TOU_cost.values) * days, \n",
    "                        \"Flex Power (kW)\": opt_flex_powers, \n",
    "                        \"ASAP Power (kW)\":opt_asap_powers, \n",
    "                        \"Flex SOC (%)\":opt_flex_SOCs})\n",
    "\n",
    "df_plot[\"Flex SOC (%)\"] = df_plot[\"Flex SOC (%)\"].fillna(method='bfill').fillna(method='ffill')\n",
    "df_plot = df_plot.fillna(0)\n",
    "df_plot['Station Max Power (kW)'] = event['pow_max']\n",
    "df_plot['Station Min Power (kW)'] = event['pow_min']\n",
    "df_plot['Arrival SOC'] = event['SOC_init']\n",
    "df_plot['Departure SOC Demand'] = event['SOC_init'] + event['SOC_need']\n",
    "\n",
    "\n",
    "\n",
    "def plot_arrival_departure(ax_list, event):\n",
    "    for ax in ax_list:\n",
    "        arrival_time = pd.Timestamp(year=2021, month=1, day=1, hour = int(event['time']// 1), minute = int(60 * ( event['time'] % 1)))\n",
    "        departure_time = arrival_time + pd.Timedelta(hours = int(event['duration']// 1), minutes = int(60 * ( event['time'] % 1)))\n",
    "        ax.axvspan(arrival_time, departure_time, facecolor='b', alpha=0.1)\n",
    "\n",
    "def plot_max_min_power(ax_list, df_plot):\n",
    "    for ax in ax_list:\n",
    "        ax.plot(df_plot['Station Max Power (kW)'], label=\"Station Max Power (kW\", color = 'red')\n",
    "        # ax.plot(df_plot['Station Min Power (kW)'],label=\"Station Max Power (kW\")))\n"
   ]
  },
  {
   "cell_type": "code",
   "execution_count": 69,
   "metadata": {},
   "outputs": [
    {
     "data": {
      "text/plain": [
       "array([3.70652174, 3.70652174, 3.70652174, 3.70652174, 3.70652174,\n",
       "       3.70652174, 3.70652174, 3.70652174, 3.70652174, 3.70652174,\n",
       "       3.70652174, 3.70652174, 3.70652174, 3.70652174, 3.70652174,\n",
       "       3.70652174, 3.70652174, 3.70652174, 3.70652174, 3.70652174,\n",
       "       3.70652174, 3.70652174, 3.70652174, 3.50652174, 3.50652174,\n",
       "       3.50652174, 3.50652174, 3.50652174, 3.50652174, 3.50652174,\n",
       "       3.50652174, 3.50652174, 3.50652174, 3.50652174, 3.50652174,\n",
       "       3.50652174, 3.50652174, 3.50652174, 3.50652174, 3.50652174,\n",
       "       3.50652174, 3.50652174, 3.50652174, 3.70652174, 3.70652174,\n",
       "       3.70652174, 3.70652174, 3.70652174])"
      ]
     },
     "execution_count": 69,
     "metadata": {},
     "output_type": "execute_result"
    }
   ],
   "source": [
    "res['flex_powers']"
   ]
  },
  {
   "cell_type": "code",
   "execution_count": 70,
   "metadata": {},
   "outputs": [
    {
     "name": "stderr",
     "output_type": "stream",
     "text": [
      "<>:37: DeprecationWarning: invalid escape sequence \\l\n",
      "<>:37: DeprecationWarning: invalid escape sequence \\l\n",
      "<ipython-input-70-23d4c2e030e1>:37: DeprecationWarning: invalid escape sequence \\l\n",
      "  fig.suptitle(\"J = u.T @ TOU + |u|_2 * $\\lambda$ (lam = 0)\")\n"
     ]
    },
    {
     "data": {
      "image/png": "[encoded data removed]",
      "text/plain": [
       "<Figure size 864x648 with 4 Axes>"
      ]
     },
     "metadata": {
      "needs_background": "light"
     },
     "output_type": "display_data"
    }
   ],
   "source": [
    "plt.rcParams['figure.constrained_layout.use'] = True\n",
    "\n",
    "fig,(ax1, ax2, ax3, ax4) = plt.subplots(4,1,figsize=(12,9) ,)\n",
    "\n",
    "x_lim  = (list(df_plot.index)[0],list(df_plot.index)[-1])\n",
    "ax1.plot(df_plot['TOU Cost ($)'])\n",
    "ax1.set_xlim(x_lim)\n",
    "ax1.grid()\n",
    "ax1.set_xlabel(\"Time\")\n",
    "ax1.set_ylabel(\"TOU ($)\")\n",
    "\n",
    "\n",
    "ax2.plot(df_plot[\"Flex Power (kW)\"])\n",
    "ax2.set_xlim(x_lim)\n",
    "ax2.grid()\n",
    "ax2.set_xlabel(\"Time\")\n",
    "ax2.set_ylabel(\"Power (kW)\")\n",
    "ax2.set_title(\"Flex Charging Optimal Power\")\n",
    "\n",
    "ax3.plot(df_plot[\"ASAP Power (kW)\"])\n",
    "ax3.set_xlim(ax1.set_xlim(x_lim))\n",
    "ax3.grid()\n",
    "ax3.set_xlabel(\"Time\")\n",
    "ax3.set_ylabel(\"Power (kW)\")\n",
    "ax3.set_title(\"ASAP Charging Optimal Power\")\n",
    "\n",
    "ax4.plot(df_plot[\"Flex SOC (%)\"])\n",
    "ax4.set_xlim(x_lim)\n",
    "ax4.grid()\n",
    "ax4.set_xlabel(\"Time\")\n",
    "ax4.set_ylabel(\"SOC (%)\")\n",
    "ax4.set_title(\"Flex Charging SOC (%\")\n",
    "\n",
    "plot_arrival_departure([ax2,ax3], event)\n",
    "plot_max_min_power([ax2,ax3], df_plot)\n",
    "\n",
    "fig.suptitle(\"J = u.T @ TOU\")\n",
    "plt.savefig(os.path.join(\"Figures/\", \"test_full_code_5.png\"))"
   ]
  },
  {
   "cell_type": "code",
   "execution_count": null,
   "metadata": {},
   "outputs": [],
   "source": []
  },
  {
   "cell_type": "code",
   "execution_count": null,
   "metadata": {},
   "outputs": [],
   "source": []
  }
 ],
 "metadata": {
  "interpreter": {
   "hash": "6d999353e248f258d4a34ed75b882769c992bfd2c5cfd49c2dae5974fd547524"
  },
  "kernelspec": {
   "display_name": "Python 3.8.3 64-bit ('base': conda)",
   "name": "python3"
  },
  "language_info": {
   "codemirror_mode": {
    "name": "ipython",
    "version": 3
   },
   "file_extension": ".py",
   "mimetype": "text/x-python",
   "name": "python",
   "nbconvert_exporter": "python",
   "pygments_lexer": "ipython3",
   "version": "3.8.3"
  },
  "orig_nbformat": 4
 },
 "nbformat": 4,
 "nbformat_minor": 2
}
