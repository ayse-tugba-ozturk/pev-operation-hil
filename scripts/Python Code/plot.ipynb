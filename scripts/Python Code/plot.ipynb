{
 "cells": [
  {
   "cell_type": "code",
   "execution_count": 1,
   "metadata": {},
   "outputs": [
    {
     "data": {
      "text/plain": [
       "['ECOS', 'ECOS_BB', 'GUROBI', 'OSQP', 'SCS']"
      ]
     },
     "execution_count": 1,
     "metadata": {},
     "output_type": "execute_result"
    }
   ],
   "source": [
    "import numpy as np\n",
    "import pandas as pd \n",
    "import matplotlib.pyplot as plt\n",
    "import pandas as pd\n",
    "import opt_tugba\n",
    "import sys\n",
    "import os\n",
    "import warnings\n",
    "warnings.filterwarnings(\"ignore\")\n",
    "import cvxpy\n",
    "\n",
    "import matplotlib \n",
    "\n",
    "plt.rcParams['figure.constrained_layout.use'] = True\n",
    "matplotlib.rc('xtick', labelsize=10) \n",
    "matplotlib.rc('ytick', labelsize=10) \n",
    "matplotlib.rcParams.update({'font.size': 15})\n",
    "cvxpy.installed_solvers()"
   ]
  },
  {
   "cell_type": "code",
   "execution_count": 2,
   "metadata": {},
   "outputs": [],
   "source": [
    "#  initialize the problem\n",
    "new_event = True \n",
    "interval_size_hours = 15 / 60 \n",
    "\n",
    "# 5 minute intervals\n",
    "tariff = np.ones((int(24 / interval_size_hours),)) * 10\n",
    "tariff[32:40] = np.ones(shape = (8,)) * 15\n",
    "tariff[60:80] = np.ones(shape = (20,)) * 20\n",
    "pow_max = 6.6\n",
    "pow_min = 0\n",
    "overstay_duration= 1\n",
    "\n"
   ]
  },
  {
   "cell_type": "code",
   "execution_count": 66,
   "metadata": {},
   "outputs": [
    {
     "data": {
      "text/plain": [
       "268"
      ]
     },
     "execution_count": 66,
     "metadata": {},
     "output_type": "execute_result"
    }
   ],
   "source": [
    "df_flex = pd.DataFrame(index =  np.arange(6,96,6), columns = np.arange(5,55,5))\n",
    "df_asap = pd.DataFrame(index =  np.arange(6,96,6), columns = np.arange(5,55,5))"
   ]
  },
  {
   "cell_type": "code",
   "execution_count": 3,
   "metadata": {},
   "outputs": [
    {
     "ename": "TypeError",
     "evalue": "__init__() got an unexpected keyword argument 'mu'",
     "output_type": "error",
     "traceback": [
      "\u001b[0;31m---------------------------------------------------------------------------\u001b[0m",
      "\u001b[0;31mTypeError\u001b[0m                                 Traceback (most recent call last)",
      "\u001b[0;32m<timed exec>\u001b[0m in \u001b[0;36m<module>\u001b[0;34m\u001b[0m\n",
      "\u001b[0;31mTypeError\u001b[0m: __init__() got an unexpected keyword argument 'mu'"
     ]
    }
   ],
   "source": [
    "%%time\n",
    "count = 0 \n",
    "for arrival_interval in [72, 96, 108]: # 5 min interval\n",
    "    for duration in [12, 30, 48, 96]: # 5 min interval \n",
    "        for e_needed in np.arange(5,25,5):\n",
    "            for z0 in [np.array([1,1,1,1]) , np.array([100,100,1,1]), np.array([150,150,1,1]), np.array([100,200,1,1])]:\n",
    "                for v0 in [np.array([0.33, 0.33, 0.33]), np.array([0.50, 0.50, 0.0]), np.array([0.25, 0.50, 0.25])]:\n",
    "                    if duration < int(np.ceil((e_needed / 6.6) * 12)):\n",
    "                        print(\"Not enough time\")\n",
    "                    else:\n",
    "\n",
    "                        event = {\"time\" : arrival_interval, \n",
    "                                \"pow_min\" : pow_min, \n",
    "                                \"pow_max\" : pow_max, \n",
    "                                \"overstay_duration\" : overstay_duration, \n",
    "                                \"duration\" : duration, \n",
    "                                \"e_need\":e_needed}\n",
    "                        \n",
    "                        par = opt_tugba.Parameters(TOU = tariff, \n",
    "                                                    z0 = z0.reshape(4,1) ,\n",
    "                                                    v0 = v0.reshape(3,1) , \n",
    "                                                    eff = 1.0, lam_x = 0, lam_h_c= 0, lam_h_uc=0,  lam_z_uc = 0,  lam_z_c = 0, Ts = interval_size_hours) \n",
    "                        \n",
    "                        prb = opt_tugba.Problem(par = par, event = event)\n",
    "                        \n",
    "                        opt = opt_tugba.Optimization(par, prb)\n",
    "                        \n",
    "                        res = opt.run_opt()\n",
    "\n",
    "                        # df_flex.loc[duration,e_needed] = res['tariff_flex'] * 6.6 ## convert to cents / hour\n",
    "                        # df_asap.loc[duration,e_needed] = res['tariff_asap'] * 6.6 ## convert to cents / hour\n",
    "\n",
    "                        record_results(event, par, prb, opt, res, count)\n",
    "                        count +=1\n",
    "\n",
    "\n",
    "            \n",
    "\n"
   ]
  },
  {
   "cell_type": "code",
   "execution_count": 34,
   "metadata": {},
   "outputs": [],
   "source": [
    "def record_results(event, par, prb, opt, res, test):\n",
    "    days = 0 \n",
    "    num_interval= len(par.TOU)\n",
    "    interval_size = par.Ts\n",
    "\n",
    "    start_hour = int(res[\"time_start\"] * par.Ts // 1)\n",
    "    start_minute = int(np.ceil(60 * ( res['time_start'] *par.Ts % 1)))\n",
    "    flex_end_hour = int(res[\"time_end_flex\"] * par.Ts // 1)\n",
    "    flex_end_minute= int(np.ceil(60 * ( res['time_end_flex'] *par.Ts % 1)))\n",
    "    asap_end_hour = int(res[\"time_end_asap\"] * par.Ts // 1)\n",
    "    asap_end_minute = int(np.ceil(60 * ( res['time_end_asap'] *par.Ts % 1)))\n",
    "\n",
    "    # 5 min interval\n",
    "    timerange = pd.date_range(\"1/1/2021\", periods=num_interval, freq=\"{}min\".format(5))\n",
    "    ## all time frame \n",
    "    TOU_cost = pd.Series(par.TOU, index = timerange, name = \"TOU Cost ($)\")\n",
    "\n",
    "\n",
    "    # Event parameters: arrival_time, soc_init, soc_need, departure\n",
    "    opt_time_start  = pd.Timestamp(year=2021, month=1, day=1, hour = start_hour, minute = start_minute)\n",
    "    opt_time_end_flex  =pd.Timestamp(year=2021, month=1, day=1, hour = flex_end_hour,  minute = flex_end_minute)\n",
    "    opt_time_end_asap  = pd.Timestamp(year=2021, month=1, day=1, hour = asap_end_hour, minute = asap_end_minute)\n",
    "\n",
    "    flex_ts = pd.date_range(start=opt_time_start , end=opt_time_end_flex, freq=\"{}H\".format(par.Ts))\n",
    "    asap_ts = pd.date_range(start=opt_time_start , end=opt_time_end_asap, freq=\"{}H\".format(par.Ts))\n",
    "\n",
    "    # Optimization outputs \n",
    "\n",
    "    ## Question: Why flex output length mismatches the timelength? \n",
    "    # print(opt.opt_flex_powers.shape)\n",
    "    opt_flex_powers = pd.Series(res['flex_powers'].reshape(len(res['flex_powers']),), index = flex_ts[:-1], name = \"Flew Power (kW)\")\n",
    "    opt_asap_powers = pd.Series(res['asap_powers'].reshape(len(res['asap_powers']),), index = asap_ts[:-1], name = \"ASAP Power (kW)\")\n",
    "    opt_flex_energy = pd.Series(res['flex_e_delivered'].reshape(len(res['flex_e_delivered']),), index = flex_ts, name = \"Energy Delivered (kWh)\")\n",
    "    # event = prb.event\n",
    "    # print(event)\n",
    "\n",
    "    ## PLOT FOR 2 days \n",
    "    days =2 \n",
    "    ts = pd.date_range(timerange[0], periods=num_interval * days, freq=\"{}H\".format(interval_size ))\n",
    "    df_plot = pd.DataFrame(index = ts, \n",
    "                            data = {\"TOU Cost (cents/hour)\": list(TOU_cost.values* 6.6) * days, \n",
    "                            \"Flex Power (kW)\": opt_flex_powers, \n",
    "                            \"ASAP Power (kW)\":opt_asap_powers, \n",
    "                            \"Energy Delivered, Flex (kWh)\":opt_flex_energy})\n",
    "\n",
    "    df_plot[\"Energy Delivered, Flex (kWh)\"] = df_plot[\"Energy Delivered, Flex (kWh)\"].fillna(method='bfill').fillna(method='ffill')\n",
    "    df_plot = df_plot.fillna(0)\n",
    "    df_plot['Station Max Power (kW)'] = event['pow_max']\n",
    "    df_plot['Station Min Power (kW)'] = event['pow_min']\n",
    "    # df_plot['Arrival SOC'] = event['SOC_init']\n",
    "    # df_plot['Departure SOC Demand'] = event['SOC_need']\n",
    "    df_plot['Arrival Time'] = event['time']\n",
    "    df_plot['Duration'] = event['duration']\n",
    "\n",
    "\n",
    "\n",
    "    plot_power_energy(df_plot, prb, test, start_hour,start_minute,flex_end_hour ,flex_end_minute)\n",
    "    plot_prices_and_probs(res, test)\n",
    "    save_the_data(df_plot, res, test)\n",
    "\n",
    "\n"
   ]
  },
  {
   "cell_type": "code",
   "execution_count": 67,
   "metadata": {},
   "outputs": [
    {
     "data": {
      "text/plain": [
       "<opt_tugba.Parameters at 0x7fba65e306a0>"
      ]
     },
     "execution_count": 67,
     "metadata": {},
     "output_type": "execute_result"
    }
   ],
   "source": []
  },
  {
   "cell_type": "code",
   "execution_count": 25,
   "metadata": {},
   "outputs": [],
   "source": [
    "\n",
    "\n",
    "def plot_arrival_departure(ax_list, start_hour,start_minute,flex_end_hour ,flex_end_minute,event):\n",
    "    for ax in ax_list:\n",
    "        arrival_time = pd.Timestamp(year=2021, month=1, day=1, hour = start_hour, minute = start_minute)\n",
    "        departure_time = pd.Timestamp(year=2021, month=1, day=1, hour = flex_end_hour, minute = flex_end_minute)\n",
    "        ax.axvspan(arrival_time, departure_time, facecolor='b', alpha=0.25)\n",
    "\n",
    "def plot_max_min_power(ax_list, df_plot):\n",
    "    for ax in ax_list:\n",
    "        ax.plot(df_plot['Station Max Power (kW)'], label=\"Station Max Power (kW\", color = 'red',linestyle='--')\n",
    "        # ax.plot(df_plot['Station Min Power (kW)'],label=\"Station Max Power (kW\")))\n",
    "\n",
    "def x_axis_labels(ax_list, cuts=[0,6,12,18]):\n",
    "    import matplotlib.dates as mdates\n",
    "    hlocator = mdates.HourLocator(byhour=cuts, interval=1, tz=None)\n",
    "    for ax in ax_list:\n",
    "        # ax.xaxis.set_major_locator(loc)\n",
    "        ax.xaxis.set_major_locator(hlocator)\n",
    "        ax.xaxis.set_major_formatter(mdates.DateFormatter(\"%H\"))\n",
    "\n",
    "def add_legend(ax_list):\n",
    "    for ax in ax_list:\n",
    "        ax.legend()"
   ]
  },
  {
   "cell_type": "code",
   "execution_count": 22,
   "metadata": {},
   "outputs": [],
   "source": [
    "def plot_power_energy(df_plot, prb, test, start_hour,start_minute,flex_end_hour ,flex_end_minute):\n",
    "    plt.rcParams['figure.constrained_layout.use'] = True\n",
    "\n",
    "    fig,(ax1, ax2, ax3, ax4) = plt.subplots(4,1,figsize=(12,9) ,)\n",
    "\n",
    "    x_lim  = (list(df_plot.index)[0],list(df_plot.index)[-1])\n",
    "    ax1.plot(df_plot['TOU Cost (cents/hour)'])\n",
    "\n",
    "    ax1.set_xlim(x_lim)\n",
    "    ax1.grid()\n",
    "    ax1.set_xlabel(\"Time\")\n",
    "    ax1.set_ylabel(\"TOU (cents / hour)\")\n",
    "\n",
    "\n",
    "    ax2.plot(df_plot[\"Flex Power (kW)\"], label = \"Power Delivered (kW)\")\n",
    "    ax2.set_xlim(x_lim)\n",
    "    ax2.grid()\n",
    "    ax2.set_xlabel(\"Time\")\n",
    "    ax2.set_ylabel(\"Power (kW)\")\n",
    "    ax2.set_title(\"Flex Charging Optimal Power\")\n",
    "\n",
    "    ax3.plot(df_plot[\"ASAP Power (kW)\"], label = \"Power Delivered (kW)\")\n",
    "    ax3.set_xlim(ax1.set_xlim(x_lim))\n",
    "    ax3.grid()\n",
    "    ax3.set_xlabel(\"Time\")\n",
    "    ax3.set_ylabel(\"Power (kW)\")\n",
    "    ax3.set_title(\"ASAP Charging Optimal Power\")\n",
    "\n",
    "    ax4.plot(df_plot[\"Energy Delivered, Flex (kWh)\"], label  = 'Energy Delivered (kWh)')\n",
    "    ax4.axhline(prb.e_need,  linestyle='--',color='red', label = 'Energy Demand (kWh)')\n",
    "    ax4.set_xlim(x_lim)\n",
    "    ax4.grid()\n",
    "    ax4.set_xlabel(\"Time\")\n",
    "    ax4.set_ylabel(\"Energy Level (kWh)\")\n",
    "\n",
    "    ax4.set_title(\"Flex Charging Energy Delivered (kWh)\")\n",
    "\n",
    "    plot_arrival_departure([ax2,ax3], start_hour,start_minute,flex_end_hour ,flex_end_minute,event)\n",
    "    plot_max_min_power([ax2,ax3], df_plot)\n",
    "    x_axis_labels([ax1,ax2,ax3,ax4], cuts=[0,5,10,15,20])\n",
    "    add_legend([ax1,ax2,ax3,ax4])\n",
    "    # fig.suptitle(\"{} , Solver=Gurobi\".format(objective))\n",
    "    plt.savefig(os.path.join(\"Figures/\", \"test_full_code_{}.pdf\".format(test)),format='pdf')\n",
    "\n",
    "    plt.show()\n",
    "    plt.close()"
   ]
  },
  {
   "cell_type": "code",
   "execution_count": 39,
   "metadata": {},
   "outputs": [
    {
     "data": {
      "text/plain": [
       "dict_keys(['z', 'tariff_flex', 'tariff_asap', 'tariff_overstay', 'peak_pow', 'flex_e_delivered', 'flex_powers', 'asap_powers', 'v', 'prob_flex', 'prob_asap', 'prob_leave', 'J', 'J_sub', 'z_iter', 'v_iter', 'rev_flex', 'rev_asap', 'num_iter', 'prb', 'par', 'time_start', 'time_end_flex', 'time_end_asap'])"
      ]
     },
     "execution_count": 39,
     "metadata": {},
     "output_type": "execute_result"
    }
   ],
   "source": [
    "\n",
    "def save_the_data(df_plot, res, test):\n",
    "    from openpyxl import load_workbook\n",
    "    path = \"parameters_21feb.xlsx\"\n",
    "    book = load_workbook(path)\n",
    "    writer = pd.ExcelWriter(path, engine = 'openpyxl')\n",
    "    writer.book = book\n",
    "\n",
    "    df_plot['tariff_flex (cents/hour)'] = res['tariff_flex'] * 6.6\n",
    "\n",
    "    df_plot['tariff_asap (cents/hour)'] = res['tariff_asap'] * 6.6\n",
    "    \n",
    "    df_plot['z0'] = par.z0\n",
    "    df_plot['v0'] = par.v0\n",
    "\n",
    "    df_plot['prob_asap'] = res['prob_asap']\n",
    "    df_plot['prob_flex'] = res['prob_flex']\n",
    "    df_plot['prob_leave'] = res['prob_leave']\n",
    "    df_plot['e_need'] = res['e_need']\n",
    "    \n",
    "    df_plot.to_excel(writer,sheet_name=\"test_{}\".format(test))\n",
    "\n",
    "    writer.save()\n",
    "    writer.close()\n"
   ]
  },
  {
   "cell_type": "code",
   "execution_count": 16,
   "metadata": {},
   "outputs": [],
   "source": [
    "# PLOT FOR EACH ITERATION\n",
    "def plot_prices_and_probs(res, test):\n",
    "    fig,(axes) = plt.subplots(5,1,figsize=(12,12))\n",
    "    # Objective Value for each iteration \n",
    "    ax = axes[0]\n",
    "    ax.plot(res['J'], label = 'Total Objective Value')\n",
    "    ax.plot(res['J_sub'][0],label='Flex Charging Objective')\n",
    "    ax.plot(res['J_sub'][1],label='Asap Charging Objective')\n",
    "    ax.plot(res['J_sub'][2],label='Leave Objective')\n",
    "    ax.margins(0)\n",
    "    ax.grid()\n",
    "    ax.set_xlabel(\"Iteration\")\n",
    "    ax.set_ylabel(\"$J(x,z,v)$\")\n",
    "    ax.set_title(\"Objective Value\")\n",
    "    ax.legend()\n",
    "\n",
    "    # Flex Charging Revenue for each iteration and flex charging costs \n",
    "    ax = axes[1]\n",
    "    ax.plot(res['rev_flex'],linewidth = 2)\n",
    "    ax.set_xlim(0,res['num_iter'] - 1)\n",
    "    ax.grid()\n",
    "    ax.set_xlabel(\"Iteration\")\n",
    "    ax.set_ylabel(\"cents\")\n",
    "    ax.set_title(\"Flex Charging Revenue\")\n",
    "\n",
    "    ax_twin  = ax.twinx()\n",
    "    ax_twin.plot(res['z_iter'][0,:] * 6.6,linestyle = \"--\",color =\"red\",linewidth = 2)\n",
    "    ax_twin.set_ylabel(\"cents / hour\", color = 'red')\n",
    "\n",
    "\n",
    "    # Asap Charging Revenue for each iteration and asap charging costs \n",
    "    ax = axes[2]\n",
    "    ax.plot(res['rev_asap'],linewidth = 2)\n",
    "    ax.set_xlim(0,res['num_iter'] - 1)\n",
    "    ax.grid()\n",
    "    ax.set_xlabel(\"Iteration\")\n",
    "    ax.set_ylabel(\"cents\")\n",
    "    ax.set_title(\"ASAP Charging Revenue\")\n",
    "\n",
    "    ax_twin  = ax.twinx()\n",
    "    ax_twin.plot(res['z_iter'][1,:] * 6.6,linestyle = \"--\",color =\"red\",linewidth = 2)\n",
    "    ax_twin.set_ylabel(\"cents / hour\", color = 'red')\n",
    "\n",
    "    # Probability of Charging Flex, Asap and Leaving at each iteration \n",
    "    ax=axes[3]\n",
    "    ax.bar(x = np.arange(res['num_iter']),height = res['v_iter'][0,:], label = 'Flex Charging')\n",
    "    ax.bar(x = np.arange(res['num_iter']),height = res['v_iter'][1,:], label = 'ASAP Charging', bottom = res['v_iter'][0,:])\n",
    "    ax.bar(x = np.arange(res['num_iter']),height = res['v_iter'][2,:], label = 'Leave', bottom = res['v_iter'][1,:] + res['v_iter'][0,:])\n",
    "    ax.legend()\n",
    "    ax.grid()\n",
    "    ax.set_xlabel(\"Iteration\")\n",
    "    ax.set_ylabel(\"$P(i)$\")\n",
    "    ax.set_title(\"Probability\")\n",
    "\n",
    "    # Price of each option maybe \n",
    "    ax=axes[4]\n",
    "    ax.bar(x = np.arange(res['num_iter']),height = res['z_iter'][0,:] * 6.6, label = 'Flex Charging')\n",
    "    ax.bar(x = np.arange(res['num_iter']),height = res['z_iter'][1,:] * 6.6, label = 'ASAP Charging', bottom = res['z_iter'][0,:]* 6.6)\n",
    "    # ax.bar(x = np.arange(res['num_iter']),height = res['z_iter'][2,:], label = 'Overstay', bottom = res['z_iter'][0,:] + res['z_iter'][1,:])\n",
    "    # ax.bar(x = np.arange(res['num_iter']),height = res['z_iter'][3,:], label = 'Leave',bottom = (res['z_iter'][0,:] + res['z_iter'][1,:] + res['z_iter'][2,:]))\n",
    "    ax.legend()\n",
    "    ax.grid()\n",
    "    ax.set_xlabel(\"Iteration\")\n",
    "    ax.set_title(\"Price\")\n",
    "    ax.set_ylabel(\"cents / hour\", color = 'red')\n",
    "    plt.savefig(os.path.join(\"Figures/\", \"power_price_{}.pdf\".format(test)),format='pdf')\n",
    "\n",
    "    # "
   ]
  },
  {
   "cell_type": "code",
   "execution_count": 149,
   "metadata": {},
   "outputs": [
    {
     "data": {
      "text/plain": [
       "21.015485386001675"
      ]
     },
     "execution_count": 149,
     "metadata": {},
     "output_type": "execute_result"
    }
   ],
   "source": [
    "## Wgy scale dependent? \n",
    "res['tariff_flex']"
   ]
  },
  {
   "cell_type": "code",
   "execution_count": 150,
   "metadata": {},
   "outputs": [
    {
     "ename": "AttributeError",
     "evalue": "'Problem' object has no attribute 'user_SOC_init'",
     "output_type": "error",
     "traceback": [
      "\u001b[0;31m---------------------------------------------------------------------------\u001b[0m",
      "\u001b[0;31mAttributeError\u001b[0m                            Traceback (most recent call last)",
      "\u001b[0;32m<ipython-input-150-3457ce9ffa41>\u001b[0m in \u001b[0;36m<module>\u001b[0;34m\u001b[0m\n\u001b[1;32m      7\u001b[0m \u001b[0mlam_h_c\u001b[0m \u001b[0;34m=\u001b[0m \u001b[0mpar\u001b[0m\u001b[0;34m.\u001b[0m\u001b[0mlam_h_c\u001b[0m\u001b[0;34m\u001b[0m\u001b[0;34m\u001b[0m\u001b[0m\n\u001b[1;32m      8\u001b[0m \u001b[0mlam_h_uc\u001b[0m \u001b[0;34m=\u001b[0m \u001b[0mpar\u001b[0m\u001b[0;34m.\u001b[0m\u001b[0mlam_h_uc\u001b[0m\u001b[0;34m\u001b[0m\u001b[0;34m\u001b[0m\u001b[0m\n\u001b[0;32m----> 9\u001b[0;31m \u001b[0muser_SOC_init\u001b[0m  \u001b[0;34m=\u001b[0m  \u001b[0mprb\u001b[0m\u001b[0;34m.\u001b[0m\u001b[0muser_SOC_init\u001b[0m\u001b[0;34m\u001b[0m\u001b[0;34m\u001b[0m\u001b[0m\n\u001b[0m\u001b[1;32m     10\u001b[0m \u001b[0muser_SOC_need\u001b[0m \u001b[0;34m=\u001b[0m \u001b[0mprb\u001b[0m\u001b[0;34m.\u001b[0m\u001b[0muser_SOC_need\u001b[0m\u001b[0;34m\u001b[0m\u001b[0;34m\u001b[0m\u001b[0m\n\u001b[1;32m     11\u001b[0m \u001b[0mdelta_k\u001b[0m \u001b[0;34m=\u001b[0m \u001b[0mpar\u001b[0m\u001b[0;34m.\u001b[0m\u001b[0mTs\u001b[0m\u001b[0;34m\u001b[0m\u001b[0;34m\u001b[0m\u001b[0m\n",
      "\u001b[0;31mAttributeError\u001b[0m: 'Problem' object has no attribute 'user_SOC_init'"
     ]
    }
   ],
   "source": [
    "        ### Read parameters \n",
    "        N_flex = prb.N_flex\n",
    "        N_asap = prb.N_asap\n",
    "        TOU = prb.TOU\n",
    "        station_pow_max = prb.station_pow_max\n",
    "        lam_x = par.lam_x\n",
    "        lam_h_c = par.lam_h_c\n",
    "        lam_h_uc = par.lam_h_uc\n",
    "        user_SOC_init  =  prb.user_SOC_init\n",
    "        user_SOC_need = prb.user_SOC_need\n",
    "        delta_k = par.Ts\n",
    "        eff = par.eff\n",
    "        user_bat_cap = prb.user_batt_cap  \n",
    "        print(\"Lam_X:\",lam_x)\n",
    "        print(N_flex, N_asap, lam_x, user_SOC_init, user_SOC_need,eff)\n",
    "        objective = \"J = u.T @ TOU + norm2 * {} + lam_h_c * 1 / z[2] \\n + cp.sum(station_pow_max * (TOU[:N_asap] - z[1])) \\n v[2] * cp.sum(TOU[:N_asap])\".format(lam_x)"
   ]
  },
  {
   "cell_type": "code",
   "execution_count": null,
   "metadata": {},
   "outputs": [
    {
     "name": "stdout",
     "output_type": "stream",
     "text": [
      "Regular: 0.442  Scheduled: 0.314 Leave: 0.244\n"
     ]
    }
   ],
   "source": [
    "def calculate_probs(x1,x2):\n",
    "    u_reg =  0.3411 -0.0184*(x1 - x2)*.5\n",
    "    u_sch = 0.0184*(x1 - x2)*.5\n",
    "    u_leave = -1. + 0.005*(np.mean([x1, x2]))\n",
    "\n",
    "    denom = np.exp(u_reg) + np.exp(u_sch) + np.exp(u_leave)\n",
    "\n",
    "    p_reg = np.exp(u_reg) / denom\n",
    "    p_sch = np.exp(u_sch) / denom\n",
    "    p_leave = np.exp(u_leave) / denom \n",
    "    print(\"Regular:\",np.round(p_reg,3),\" Scheduled:\",np.round(p_sch,3),\"Leave:\",np.round(p_leave,3))\n",
    "\n",
    "\n",
    "x1 = 150\n",
    "x2 = 150\n",
    "\n",
    "calculate_probs(x1,x2)\n"
   ]
  },
  {
   "cell_type": "code",
   "execution_count": null,
   "metadata": {},
   "outputs": [],
   "source": []
  }
 ],
 "metadata": {
  "interpreter": {
   "hash": "6d999353e248f258d4a34ed75b882769c992bfd2c5cfd49c2dae5974fd547524"
  },
  "kernelspec": {
   "display_name": "Python 3.8.3 64-bit ('base': conda)",
   "name": "python3"
  },
  "language_info": {
   "codemirror_mode": {
    "name": "ipython",
    "version": 3
   },
   "file_extension": ".py",
   "mimetype": "text/x-python",
   "name": "python",
   "nbconvert_exporter": "python",
   "pygments_lexer": "ipython3",
   "version": "3.8.3"
  },
  "orig_nbformat": 4
 },
 "nbformat": 4,
 "nbformat_minor": 2
}
